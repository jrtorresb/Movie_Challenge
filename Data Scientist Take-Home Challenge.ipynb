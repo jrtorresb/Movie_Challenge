{
 "cells": [
  {
   "cell_type": "markdown",
   "metadata": {},
   "source": [
    "# Data Scientist Take-Home Challenge"
   ]
  },
  {
   "cell_type": "code",
   "execution_count": 1,
   "metadata": {},
   "outputs": [],
   "source": [
    "__name__ = \"Data_Science_Challenge\"\n",
    "__version__ = 1.0\n",
    "__author__ = \"José Roberto Torres Bello\"\n",
    "__email__ = \"rtorres.bello@hotmail.com\"\n",
    "__description__ = \"Data Science Challenge\"\n",
    "__date__ = 21-4-2022"
   ]
  },
  {
   "cell_type": "markdown",
   "metadata": {},
   "source": [
    "## Librerías"
   ]
  },
  {
   "cell_type": "code",
   "execution_count": 2,
   "metadata": {},
   "outputs": [],
   "source": [
    "# Importando las librerías que se van a utilizar\n",
    "import pandas as pd\n",
    "import numpy as np\n",
    "import matplotlib.pyplot as plt\n",
    "plt.style.use(\"ggplot\")\n",
    "import seaborn as sns\n",
    "import sys\n",
    "import platform\n",
    "import glob\n",
    "import os"
   ]
  },
  {
   "cell_type": "code",
   "execution_count": 3,
   "metadata": {},
   "outputs": [
    {
     "name": "stdout",
     "output_type": "stream",
     "text": [
      "Python version: 3.8.8 (default, Apr 13 2021, 15:08:03) [MSC v.1916 64 bit (AMD64)]\n",
      "Numpy version: 1.20.1\n",
      "Pandas version: 1.2.4\n",
      "Seaborn version: 0.11.1\n",
      "Sistema: Windows-10-10.0.19041-SP0\n"
     ]
    }
   ],
   "source": [
    "# Versiones de las librerías\n",
    "print(\"Python version:\", sys.version)\n",
    "print(\"Numpy version:\", np.__version__)\n",
    "print(\"Pandas version:\", pd.__version__)\n",
    "print(\"Seaborn version:\", sns.__version__)\n",
    "print(\"Sistema:\", platform.platform())"
   ]
  },
  {
   "cell_type": "code",
   "execution_count": 4,
   "metadata": {},
   "outputs": [
    {
     "data": {
      "text/plain": [
       "['genome_scores.csv',\n",
       " 'genome_tags.csv',\n",
       " 'link.csv',\n",
       " 'movie.csv',\n",
       " 'rating.csv',\n",
       " 'tag.csv']"
      ]
     },
     "execution_count": 4,
     "metadata": {},
     "output_type": "execute_result"
    }
   ],
   "source": [
    "# Muestra csv files\n",
    "files = glob.glob('*.csv')\n",
    "files"
   ]
  },
  {
   "cell_type": "markdown",
   "metadata": {},
   "source": [
    "### Datasets tomados de:\n",
    "https://www.kaggle.com/datasets/grouplens/movielens-20m-dataset\n",
    "\n",
    "Se puedo haber usado el API de kaggle para descargar directamente los datos usando el token y el comando:\n",
    "\n",
    "**kaggle datasets download -d grouplens/movielens-20m-dataset**"
   ]
  },
  {
   "cell_type": "code",
   "execution_count": 5,
   "metadata": {},
   "outputs": [
    {
     "name": "stdout",
     "output_type": "stream",
     "text": [
      "genome_scores.csv\n",
      "11709768 filas \n",
      "3 columnas \n",
      "\n",
      "genome_tags.csv\n",
      "1128 filas \n",
      "2 columnas \n",
      "\n",
      "link.csv\n",
      "27278 filas \n",
      "3 columnas \n",
      "\n",
      "movie.csv\n",
      "27278 filas \n",
      "3 columnas \n",
      "\n",
      "rating.csv\n",
      "20000263 filas \n",
      "4 columnas \n",
      "\n",
      "tag.csv\n",
      "465564 filas \n",
      "4 columnas\n"
     ]
    }
   ],
   "source": [
    "# Número de files y de columnas de los datasets\n",
    "print(files[0])\n",
    "genome_scores =  pd.read_csv('genome_scores.csv', sep=\",\")\n",
    "print(f'{genome_scores.shape[0]} filas \\n{genome_scores.shape[1]} columnas \\n') \n",
    "\n",
    "print(files[1])\n",
    "genome_tags =  pd.read_csv('genome_tags.csv', sep=\",\")\n",
    "print(f'{genome_tags.shape[0]} filas \\n{genome_tags.shape[1]} columnas \\n') \n",
    "\n",
    "print(files[2])\n",
    "link =  pd.read_csv('link.csv', sep=\",\")\n",
    "print(f'{link.shape[0]} filas \\n{link.shape[1]} columnas \\n') \n",
    "\n",
    "print(files[3])\n",
    "movie =  pd.read_csv('movie.csv', sep=\",\")\n",
    "print(f'{movie.shape[0]} filas \\n{movie.shape[1]} columnas \\n') \n",
    "\n",
    "print(files[4])\n",
    "rating =  pd.read_csv('rating.csv', sep=\",\")\n",
    "print(f'{rating.shape[0]} filas \\n{rating.shape[1]} columnas \\n') \n",
    "\n",
    "print(files[5])\n",
    "tag =  pd.read_csv('tag.csv', sep=\",\")\n",
    "print(f'{tag.shape[0]} filas \\n{tag.shape[1]} columnas') "
   ]
  },
  {
   "cell_type": "code",
   "execution_count": 6,
   "metadata": {},
   "outputs": [],
   "source": [
    "# Se hace un merge de los datasets rating y movie por movieId, se muestran los primeros 5 registros\n",
    "df1 = pd.merge(rating, movie, how='left')"
   ]
  },
  {
   "cell_type": "code",
   "execution_count": 7,
   "metadata": {},
   "outputs": [
    {
     "data": {
      "text/html": [
       "<div>\n",
       "<style scoped>\n",
       "    .dataframe tbody tr th:only-of-type {\n",
       "        vertical-align: middle;\n",
       "    }\n",
       "\n",
       "    .dataframe tbody tr th {\n",
       "        vertical-align: top;\n",
       "    }\n",
       "\n",
       "    .dataframe thead th {\n",
       "        text-align: right;\n",
       "    }\n",
       "</style>\n",
       "<table border=\"1\" class=\"dataframe\">\n",
       "  <thead>\n",
       "    <tr style=\"text-align: right;\">\n",
       "      <th></th>\n",
       "      <th>userId</th>\n",
       "      <th>movieId</th>\n",
       "      <th>rating</th>\n",
       "      <th>timestamp</th>\n",
       "      <th>title</th>\n",
       "      <th>genres</th>\n",
       "    </tr>\n",
       "  </thead>\n",
       "  <tbody>\n",
       "    <tr>\n",
       "      <th>0</th>\n",
       "      <td>1</td>\n",
       "      <td>2</td>\n",
       "      <td>3.5</td>\n",
       "      <td>2005-04-02 23:53:47</td>\n",
       "      <td>Jumanji (1995)</td>\n",
       "      <td>Adventure|Children|Fantasy</td>\n",
       "    </tr>\n",
       "    <tr>\n",
       "      <th>1</th>\n",
       "      <td>1</td>\n",
       "      <td>29</td>\n",
       "      <td>3.5</td>\n",
       "      <td>2005-04-02 23:31:16</td>\n",
       "      <td>City of Lost Children, The (Cité des enfants p...</td>\n",
       "      <td>Adventure|Drama|Fantasy|Mystery|Sci-Fi</td>\n",
       "    </tr>\n",
       "    <tr>\n",
       "      <th>2</th>\n",
       "      <td>1</td>\n",
       "      <td>32</td>\n",
       "      <td>3.5</td>\n",
       "      <td>2005-04-02 23:33:39</td>\n",
       "      <td>Twelve Monkeys (a.k.a. 12 Monkeys) (1995)</td>\n",
       "      <td>Mystery|Sci-Fi|Thriller</td>\n",
       "    </tr>\n",
       "    <tr>\n",
       "      <th>3</th>\n",
       "      <td>1</td>\n",
       "      <td>47</td>\n",
       "      <td>3.5</td>\n",
       "      <td>2005-04-02 23:32:07</td>\n",
       "      <td>Seven (a.k.a. Se7en) (1995)</td>\n",
       "      <td>Mystery|Thriller</td>\n",
       "    </tr>\n",
       "    <tr>\n",
       "      <th>4</th>\n",
       "      <td>1</td>\n",
       "      <td>50</td>\n",
       "      <td>3.5</td>\n",
       "      <td>2005-04-02 23:29:40</td>\n",
       "      <td>Usual Suspects, The (1995)</td>\n",
       "      <td>Crime|Mystery|Thriller</td>\n",
       "    </tr>\n",
       "  </tbody>\n",
       "</table>\n",
       "</div>"
      ],
      "text/plain": [
       "   userId  movieId  rating            timestamp  \\\n",
       "0       1        2     3.5  2005-04-02 23:53:47   \n",
       "1       1       29     3.5  2005-04-02 23:31:16   \n",
       "2       1       32     3.5  2005-04-02 23:33:39   \n",
       "3       1       47     3.5  2005-04-02 23:32:07   \n",
       "4       1       50     3.5  2005-04-02 23:29:40   \n",
       "\n",
       "                                               title  \\\n",
       "0                                     Jumanji (1995)   \n",
       "1  City of Lost Children, The (Cité des enfants p...   \n",
       "2          Twelve Monkeys (a.k.a. 12 Monkeys) (1995)   \n",
       "3                        Seven (a.k.a. Se7en) (1995)   \n",
       "4                         Usual Suspects, The (1995)   \n",
       "\n",
       "                                   genres  \n",
       "0              Adventure|Children|Fantasy  \n",
       "1  Adventure|Drama|Fantasy|Mystery|Sci-Fi  \n",
       "2                 Mystery|Sci-Fi|Thriller  \n",
       "3                        Mystery|Thriller  \n",
       "4                  Crime|Mystery|Thriller  "
      ]
     },
     "execution_count": 7,
     "metadata": {},
     "output_type": "execute_result"
    }
   ],
   "source": [
    "df1.head()"
   ]
  },
  {
   "cell_type": "code",
   "execution_count": 8,
   "metadata": {},
   "outputs": [],
   "source": [
    "# Se ordena por movieId\n",
    "df1 = df1.sort_values('movieId')"
   ]
  },
  {
   "cell_type": "code",
   "execution_count": 9,
   "metadata": {},
   "outputs": [
    {
     "data": {
      "text/html": [
       "<div>\n",
       "<style scoped>\n",
       "    .dataframe tbody tr th:only-of-type {\n",
       "        vertical-align: middle;\n",
       "    }\n",
       "\n",
       "    .dataframe tbody tr th {\n",
       "        vertical-align: top;\n",
       "    }\n",
       "\n",
       "    .dataframe thead th {\n",
       "        text-align: right;\n",
       "    }\n",
       "</style>\n",
       "<table border=\"1\" class=\"dataframe\">\n",
       "  <thead>\n",
       "    <tr style=\"text-align: right;\">\n",
       "      <th></th>\n",
       "      <th>userId</th>\n",
       "      <th>movieId</th>\n",
       "      <th>rating</th>\n",
       "      <th>timestamp</th>\n",
       "      <th>title</th>\n",
       "      <th>genres</th>\n",
       "    </tr>\n",
       "  </thead>\n",
       "  <tbody>\n",
       "    <tr>\n",
       "      <th>14162882</th>\n",
       "      <td>97809</td>\n",
       "      <td>1</td>\n",
       "      <td>3.0</td>\n",
       "      <td>2008-06-11 04:47:11</td>\n",
       "      <td>Toy Story (1995)</td>\n",
       "      <td>Adventure|Animation|Children|Comedy|Fantasy</td>\n",
       "    </tr>\n",
       "    <tr>\n",
       "      <th>15347420</th>\n",
       "      <td>106140</td>\n",
       "      <td>1</td>\n",
       "      <td>5.0</td>\n",
       "      <td>2013-01-29 03:33:49</td>\n",
       "      <td>Toy Story (1995)</td>\n",
       "      <td>Adventure|Animation|Children|Comedy|Fantasy</td>\n",
       "    </tr>\n",
       "    <tr>\n",
       "      <th>15347355</th>\n",
       "      <td>106138</td>\n",
       "      <td>1</td>\n",
       "      <td>3.0</td>\n",
       "      <td>2002-07-31 15:48:53</td>\n",
       "      <td>Toy Story (1995)</td>\n",
       "      <td>Adventure|Animation|Children|Comedy|Fantasy</td>\n",
       "    </tr>\n",
       "    <tr>\n",
       "      <th>10170195</th>\n",
       "      <td>70354</td>\n",
       "      <td>1</td>\n",
       "      <td>4.5</td>\n",
       "      <td>2011-02-13 18:55:40</td>\n",
       "      <td>Toy Story (1995)</td>\n",
       "      <td>Adventure|Animation|Children|Comedy|Fantasy</td>\n",
       "    </tr>\n",
       "    <tr>\n",
       "      <th>10170255</th>\n",
       "      <td>70355</td>\n",
       "      <td>1</td>\n",
       "      <td>3.5</td>\n",
       "      <td>2008-01-26 16:56:54</td>\n",
       "      <td>Toy Story (1995)</td>\n",
       "      <td>Adventure|Animation|Children|Comedy|Fantasy</td>\n",
       "    </tr>\n",
       "  </tbody>\n",
       "</table>\n",
       "</div>"
      ],
      "text/plain": [
       "          userId  movieId  rating            timestamp             title  \\\n",
       "14162882   97809        1     3.0  2008-06-11 04:47:11  Toy Story (1995)   \n",
       "15347420  106140        1     5.0  2013-01-29 03:33:49  Toy Story (1995)   \n",
       "15347355  106138        1     3.0  2002-07-31 15:48:53  Toy Story (1995)   \n",
       "10170195   70354        1     4.5  2011-02-13 18:55:40  Toy Story (1995)   \n",
       "10170255   70355        1     3.5  2008-01-26 16:56:54  Toy Story (1995)   \n",
       "\n",
       "                                               genres  \n",
       "14162882  Adventure|Animation|Children|Comedy|Fantasy  \n",
       "15347420  Adventure|Animation|Children|Comedy|Fantasy  \n",
       "15347355  Adventure|Animation|Children|Comedy|Fantasy  \n",
       "10170195  Adventure|Animation|Children|Comedy|Fantasy  \n",
       "10170255  Adventure|Animation|Children|Comedy|Fantasy  "
      ]
     },
     "execution_count": 9,
     "metadata": {},
     "output_type": "execute_result"
    }
   ],
   "source": [
    "df1.head()"
   ]
  },
  {
   "cell_type": "code",
   "execution_count": 10,
   "metadata": {},
   "outputs": [
    {
     "name": "stderr",
     "output_type": "stream",
     "text": [
      "<ipython-input-10-e263338a1d42>:2: FutureWarning: The default value of regex will change from True to False in a future version. In addition, single character regular expressions will*not* be treated as literal strings when regex=True.\n",
      "  df1['genres'] = df1['genres'].str.replace('|', ' ')\n"
     ]
    }
   ],
   "source": [
    "# Se sistutye | por un espacio\n",
    "df1['genres'] = df1['genres'].str.replace('|', ' ')"
   ]
  },
  {
   "cell_type": "code",
   "execution_count": 11,
   "metadata": {},
   "outputs": [
    {
     "data": {
      "text/html": [
       "<div>\n",
       "<style scoped>\n",
       "    .dataframe tbody tr th:only-of-type {\n",
       "        vertical-align: middle;\n",
       "    }\n",
       "\n",
       "    .dataframe tbody tr th {\n",
       "        vertical-align: top;\n",
       "    }\n",
       "\n",
       "    .dataframe thead th {\n",
       "        text-align: right;\n",
       "    }\n",
       "</style>\n",
       "<table border=\"1\" class=\"dataframe\">\n",
       "  <thead>\n",
       "    <tr style=\"text-align: right;\">\n",
       "      <th></th>\n",
       "      <th>userId</th>\n",
       "      <th>movieId</th>\n",
       "      <th>rating</th>\n",
       "      <th>timestamp</th>\n",
       "      <th>title</th>\n",
       "      <th>genres</th>\n",
       "    </tr>\n",
       "  </thead>\n",
       "  <tbody>\n",
       "    <tr>\n",
       "      <th>14162882</th>\n",
       "      <td>97809</td>\n",
       "      <td>1</td>\n",
       "      <td>3.0</td>\n",
       "      <td>2008-06-11 04:47:11</td>\n",
       "      <td>Toy Story (1995)</td>\n",
       "      <td>Adventure Animation Children Comedy Fantasy</td>\n",
       "    </tr>\n",
       "    <tr>\n",
       "      <th>15347420</th>\n",
       "      <td>106140</td>\n",
       "      <td>1</td>\n",
       "      <td>5.0</td>\n",
       "      <td>2013-01-29 03:33:49</td>\n",
       "      <td>Toy Story (1995)</td>\n",
       "      <td>Adventure Animation Children Comedy Fantasy</td>\n",
       "    </tr>\n",
       "    <tr>\n",
       "      <th>15347355</th>\n",
       "      <td>106138</td>\n",
       "      <td>1</td>\n",
       "      <td>3.0</td>\n",
       "      <td>2002-07-31 15:48:53</td>\n",
       "      <td>Toy Story (1995)</td>\n",
       "      <td>Adventure Animation Children Comedy Fantasy</td>\n",
       "    </tr>\n",
       "    <tr>\n",
       "      <th>10170195</th>\n",
       "      <td>70354</td>\n",
       "      <td>1</td>\n",
       "      <td>4.5</td>\n",
       "      <td>2011-02-13 18:55:40</td>\n",
       "      <td>Toy Story (1995)</td>\n",
       "      <td>Adventure Animation Children Comedy Fantasy</td>\n",
       "    </tr>\n",
       "    <tr>\n",
       "      <th>10170255</th>\n",
       "      <td>70355</td>\n",
       "      <td>1</td>\n",
       "      <td>3.5</td>\n",
       "      <td>2008-01-26 16:56:54</td>\n",
       "      <td>Toy Story (1995)</td>\n",
       "      <td>Adventure Animation Children Comedy Fantasy</td>\n",
       "    </tr>\n",
       "  </tbody>\n",
       "</table>\n",
       "</div>"
      ],
      "text/plain": [
       "          userId  movieId  rating            timestamp             title  \\\n",
       "14162882   97809        1     3.0  2008-06-11 04:47:11  Toy Story (1995)   \n",
       "15347420  106140        1     5.0  2013-01-29 03:33:49  Toy Story (1995)   \n",
       "15347355  106138        1     3.0  2002-07-31 15:48:53  Toy Story (1995)   \n",
       "10170195   70354        1     4.5  2011-02-13 18:55:40  Toy Story (1995)   \n",
       "10170255   70355        1     3.5  2008-01-26 16:56:54  Toy Story (1995)   \n",
       "\n",
       "                                               genres  \n",
       "14162882  Adventure Animation Children Comedy Fantasy  \n",
       "15347420  Adventure Animation Children Comedy Fantasy  \n",
       "15347355  Adventure Animation Children Comedy Fantasy  \n",
       "10170195  Adventure Animation Children Comedy Fantasy  \n",
       "10170255  Adventure Animation Children Comedy Fantasy  "
      ]
     },
     "execution_count": 11,
     "metadata": {},
     "output_type": "execute_result"
    }
   ],
   "source": [
    "df1.head()"
   ]
  },
  {
   "cell_type": "markdown",
   "metadata": {},
   "source": [
    "## Valores nulos"
   ]
  },
  {
   "cell_type": "code",
   "execution_count": 12,
   "metadata": {},
   "outputs": [
    {
     "name": "stdout",
     "output_type": "stream",
     "text": [
      "<class 'pandas.core.frame.DataFrame'>\n",
      "Int64Index: 20000263 entries, 14162882 to 19227262\n",
      "Data columns (total 6 columns):\n",
      " #   Column     Dtype  \n",
      "---  ------     -----  \n",
      " 0   userId     int64  \n",
      " 1   movieId    int64  \n",
      " 2   rating     float64\n",
      " 3   timestamp  object \n",
      " 4   title      object \n",
      " 5   genres     object \n",
      "dtypes: float64(1), int64(2), object(3)\n",
      "memory usage: 1.0+ GB\n"
     ]
    }
   ],
   "source": [
    "# Tipo de datos del merged dataset\n",
    "df1.info()"
   ]
  },
  {
   "cell_type": "markdown",
   "metadata": {},
   "source": [
    "Se tienen tres variables numéricas donde dos son enteros y una flotante, también se tienen tres variables de tipo object."
   ]
  },
  {
   "cell_type": "code",
   "execution_count": 13,
   "metadata": {},
   "outputs": [
    {
     "data": {
      "text/html": [
       "<div>\n",
       "<style scoped>\n",
       "    .dataframe tbody tr th:only-of-type {\n",
       "        vertical-align: middle;\n",
       "    }\n",
       "\n",
       "    .dataframe tbody tr th {\n",
       "        vertical-align: top;\n",
       "    }\n",
       "\n",
       "    .dataframe thead th {\n",
       "        text-align: right;\n",
       "    }\n",
       "</style>\n",
       "<table border=\"1\" class=\"dataframe\">\n",
       "  <thead>\n",
       "    <tr style=\"text-align: right;\">\n",
       "      <th></th>\n",
       "      <th>total</th>\n",
       "      <th>pctg</th>\n",
       "    </tr>\n",
       "  </thead>\n",
       "  <tbody>\n",
       "  </tbody>\n",
       "</table>\n",
       "</div>"
      ],
      "text/plain": [
       "Empty DataFrame\n",
       "Columns: [total, pctg]\n",
       "Index: []"
      ]
     },
     "execution_count": 13,
     "metadata": {},
     "output_type": "execute_result"
    }
   ],
   "source": [
    "# Total de nulos en bruto y porcentaje\n",
    "total = df1.isnull().sum()\n",
    "pctg = df1.isnull().sum() / df1.isnull().count()*100\n",
    "missing_data = pd.concat([total, pctg], axis = 1, keys = ['total', 'pctg'])\n",
    "missing_data[missing_data['total']>0]"
   ]
  },
  {
   "cell_type": "markdown",
   "metadata": {},
   "source": [
    "No hay datos nulos"
   ]
  },
  {
   "cell_type": "markdown",
   "metadata": {},
   "source": [
    "## Distribución de Frecuencias de las películas"
   ]
  },
  {
   "cell_type": "code",
   "execution_count": 14,
   "metadata": {},
   "outputs": [
    {
     "name": "stdout",
     "output_type": "stream",
     "text": [
      "Pulp Fiction (1994)                                      67310\n",
      "Forrest Gump (1994)                                      66172\n",
      "Shawshank Redemption, The (1994)                         63366\n",
      "Silence of the Lambs, The (1991)                         63299\n",
      "Jurassic Park (1993)                                     59715\n",
      "Star Wars: Episode IV - A New Hope (1977)                54502\n",
      "Braveheart (1995)                                        53769\n",
      "Terminator 2: Judgment Day (1991)                        52244\n",
      "Matrix, The (1999)                                       51334\n",
      "Schindler's List (1993)                                  50054\n",
      "Toy Story (1995)                                         49695\n",
      "Fugitive, The (1993)                                     49581\n",
      "Apollo 13 (1995)                                         47777\n",
      "Independence Day (a.k.a. ID4) (1996)                     47048\n",
      "Usual Suspects, The (1995)                               47006\n",
      "Star Wars: Episode VI - Return of the Jedi (1983)        46839\n",
      "Batman (1989)                                            46054\n",
      "Star Wars: Episode V - The Empire Strikes Back (1980)    45313\n",
      "American Beauty (1999)                                   44987\n",
      "Twelve Monkeys (a.k.a. 12 Monkeys) (1995)                44980\n",
      "Name: title, dtype: int64\n"
     ]
    },
    {
     "data": {
      "image/png": "[encoded data removed]",
      "text/plain": [
       "<Figure size 720x360 with 1 Axes>"
      ]
     },
     "metadata": {},
     "output_type": "display_data"
    }
   ],
   "source": [
    "print(df1['title'].value_counts()[0:20])\n",
    "df1['title'].value_counts(normalize=True)[0:20].plot(kind='bar', color='green', figsize=(10,5))\n",
    "plt.title(\"Variable: title\")\n",
    "plt.ylabel(\"# Count\")\n",
    "plt.show()"
   ]
  },
  {
   "cell_type": "markdown",
   "metadata": {},
   "source": [
    "La película más vista fue **Pulp Fiction (1994)** seguida de **Forrest Gump (1994)**."
   ]
  },
  {
   "cell_type": "markdown",
   "metadata": {},
   "source": [
    "## Distribución de Frecuencias de los géneros"
   ]
  },
  {
   "cell_type": "code",
   "execution_count": 15,
   "metadata": {},
   "outputs": [
    {
     "name": "stdout",
     "output_type": "stream",
     "text": [
      "Drama                               1467402\n",
      "Comedy                              1316161\n",
      "Comedy Romance                       793252\n",
      "Comedy Drama                         656474\n",
      "Drama Romance                        644626\n",
      "Comedy Drama Romance                 615897\n",
      "Crime Drama                          467417\n",
      "Action Adventure Sci-Fi              441351\n",
      "Action Adventure Thriller            313902\n",
      "Action Crime Thriller                310685\n",
      "Drama Thriller                       292533\n",
      "Action Adventure Sci-Fi Thriller     291796\n",
      "Drama War                            239542\n",
      "Action Sci-Fi Thriller               232931\n",
      "Crime Drama Thriller                 217121\n",
      "Comedy Crime                         217032\n",
      "Action Drama War                     213007\n",
      "Action Crime Drama Thriller          195241\n",
      "Documentary                          173848\n",
      "Thriller                             152139\n",
      "Name: genres, dtype: int64\n"
     ]
    },
    {
     "data": {
      "image/png": "[encoded data removed]",
      "text/plain": [
       "<Figure size 720x360 with 1 Axes>"
      ]
     },
     "metadata": {},
     "output_type": "display_data"
    }
   ],
   "source": [
    "print(df1['genres'].value_counts()[0:20])\n",
    "df1['genres'].value_counts(normalize=True)[0:20].plot(kind='bar', color='green', figsize=(10,5))\n",
    "plt.title(\"Variable: genres\")\n",
    "plt.ylabel(\"# Count\")\n",
    "plt.show()"
   ]
  },
  {
   "cell_type": "markdown",
   "metadata": {},
   "source": [
    "La mayoría de las películas son del género **Drama** y **Comedia**."
   ]
  },
  {
   "cell_type": "markdown",
   "metadata": {},
   "source": [
    "## Distribución de Frecuencias del rating"
   ]
  },
  {
   "cell_type": "code",
   "execution_count": 16,
   "metadata": {},
   "outputs": [
    {
     "name": "stdout",
     "output_type": "stream",
     "text": [
      "title\n",
      "Small Roads (2011)                                             5.0\n",
      "Divorce (1945)                                                 5.0\n",
      "The Beautiful Story (1992)                                     5.0\n",
      "Into the Middle of Nowhere (2010)                              5.0\n",
      "The Sea That Thinks (2000)                                     5.0\n",
      "The Wrecking Crew (2008)                                       5.0\n",
      "Marihuana (1936)                                               5.0\n",
      "No Distance Left to Run (2010)                                 5.0\n",
      "Stargate SG-1 Children of the Gods - Final Cut (2009)          5.0\n",
      "This Thing With Sarah (2013)                                   5.0\n",
      "The great match (2007)                                         5.0\n",
      "Schmatta: Rags to Riches to Rags (2009)                        5.0\n",
      "Flight of the Conchords: A Texan Odyssey (2006)                5.0\n",
      "Paying the Price: Killing the Children of Iraq (2000)          5.0\n",
      "Little Criminals (1995)                                        5.0\n",
      "Consuming Kids: The Commercialization of Childhood (2008)      5.0\n",
      "The Old Gun (1975)                                             5.0\n",
      "A Night for Dying Tigers (2010)                                5.0\n",
      "Rent-a-Cat (2012)                                              5.0\n",
      "The Secret Country: The First Australians Fight Back (1986)    5.0\n",
      "Name: rating, dtype: float64\n"
     ]
    },
    {
     "data": {
      "image/png": "[encoded data removed]",
      "text/plain": [
       "<Figure size 720x360 with 1 Axes>"
      ]
     },
     "metadata": {},
     "output_type": "display_data"
    }
   ],
   "source": [
    "rating_avg = df1.groupby('title')['rating'].mean().sort_values(ascending=False)\n",
    "print(rating_avg.head(20))\n",
    "\n",
    "rating_avg[0:20].plot(kind='bar', color='green', figsize=(10,5))\n",
    "plt.title(\"Variable: Rating\")\n",
    "plt.ylabel(\"# Count\")\n",
    "plt.show()"
   ]
  },
  {
   "cell_type": "markdown",
   "metadata": {},
   "source": [
    "## Número de películas rankeadas por usuario"
   ]
  },
  {
   "cell_type": "code",
   "execution_count": 17,
   "metadata": {},
   "outputs": [
    {
     "name": "stdout",
     "output_type": "stream",
     "text": [
      "userId\n",
      "118205    9254\n",
      "8405      7515\n",
      "82418     5646\n",
      "121535    5520\n",
      "125794    5491\n",
      "Name: rating, dtype: int64\n"
     ]
    },
    {
     "data": {
      "image/png": "[encoded data removed]",
      "text/plain": [
       "<Figure size 720x360 with 1 Axes>"
      ]
     },
     "metadata": {},
     "output_type": "display_data"
    }
   ],
   "source": [
    "rated_movies_x_user = df1.groupby(by = \"userId\")[\"rating\"].count().sort_values(ascending = False)\n",
    "print(rated_movies_x_user.head())\n",
    "\n",
    "rated_movies_x_user[0:20].plot(kind='bar', color='green', figsize=(10,5))\n",
    "plt.title(\"Variable: Número de Películas Rankeadas por Usuario (primeros 20)\")\n",
    "plt.ylabel(\"# Count\")\n",
    "plt.xlabel('userId')\n",
    "plt.show()"
   ]
  },
  {
   "cell_type": "markdown",
   "metadata": {},
   "source": [
    "El usuario con el **Id 118205** fue el que rankeo más películas."
   ]
  },
  {
   "cell_type": "markdown",
   "metadata": {},
   "source": [
    "# Feature Engineering"
   ]
  },
  {
   "cell_type": "code",
   "execution_count": 18,
   "metadata": {},
   "outputs": [],
   "source": [
    "df_final = df1[['movieId','title','genres','userId','rating','timestamp']]"
   ]
  },
  {
   "cell_type": "markdown",
   "metadata": {},
   "source": [
    "Al dataset dinal se le podría aplicar una pivot_table o tabla de contigencia donde el índice o eje vertical son los usuarios y las columnas las películas, pero dado que son \"bastantes\" datos el IDE nos va a marcar un error debido a la capacidad de procesamiento del equipo.\n",
    "Se podrían aplicar técnicas estadísticas para sacar una muestra representativa del dataset y así aplicar la pivot_table como se muestra a continuación:"
   ]
  },
  {
   "cell_type": "code",
   "execution_count": 19,
   "metadata": {},
   "outputs": [
    {
     "data": {
      "text/html": [
       "<div>\n",
       "<style scoped>\n",
       "    .dataframe tbody tr th:only-of-type {\n",
       "        vertical-align: middle;\n",
       "    }\n",
       "\n",
       "    .dataframe tbody tr th {\n",
       "        vertical-align: top;\n",
       "    }\n",
       "\n",
       "    .dataframe thead th {\n",
       "        text-align: right;\n",
       "    }\n",
       "</style>\n",
       "<table border=\"1\" class=\"dataframe\">\n",
       "  <thead>\n",
       "    <tr style=\"text-align: right;\">\n",
       "      <th>title</th>\n",
       "      <th>8 Seconds (1994)</th>\n",
       "      <th>Above the Rim (1994)</th>\n",
       "      <th>Ace Ventura: Pet Detective (1994)</th>\n",
       "      <th>Ace Ventura: When Nature Calls (1995)</th>\n",
       "      <th>Across the Sea of Time (1995)</th>\n",
       "      <th>Addams Family Values (1993)</th>\n",
       "      <th>Addiction, The (1995)</th>\n",
       "      <th>Adventures of Priscilla, Queen of the Desert, The (1994)</th>\n",
       "      <th>Age of Innocence, The (1993)</th>\n",
       "      <th>Air Up There, The (1994)</th>\n",
       "      <th>...</th>\n",
       "      <th>White Man's Burden (1995)</th>\n",
       "      <th>White Squall (1996)</th>\n",
       "      <th>Widows' Peak (1994)</th>\n",
       "      <th>Wild Bill (1995)</th>\n",
       "      <th>Wings of Courage (1995)</th>\n",
       "      <th>With Honors (1994)</th>\n",
       "      <th>Wolf (1994)</th>\n",
       "      <th>Wonderful, Horrible Life of Leni Riefenstahl, The (Macht der Bilder: Leni Riefenstahl, Die) (1993)</th>\n",
       "      <th>Wyatt Earp (1994)</th>\n",
       "      <th>Young Poisoner's Handbook, The (1995)</th>\n",
       "    </tr>\n",
       "    <tr>\n",
       "      <th>userId</th>\n",
       "      <th></th>\n",
       "      <th></th>\n",
       "      <th></th>\n",
       "      <th></th>\n",
       "      <th></th>\n",
       "      <th></th>\n",
       "      <th></th>\n",
       "      <th></th>\n",
       "      <th></th>\n",
       "      <th></th>\n",
       "      <th></th>\n",
       "      <th></th>\n",
       "      <th></th>\n",
       "      <th></th>\n",
       "      <th></th>\n",
       "      <th></th>\n",
       "      <th></th>\n",
       "      <th></th>\n",
       "      <th></th>\n",
       "      <th></th>\n",
       "      <th></th>\n",
       "    </tr>\n",
       "  </thead>\n",
       "  <tbody>\n",
       "    <tr>\n",
       "      <th>1</th>\n",
       "      <td>NaN</td>\n",
       "      <td>NaN</td>\n",
       "      <td>NaN</td>\n",
       "      <td>NaN</td>\n",
       "      <td>NaN</td>\n",
       "      <td>NaN</td>\n",
       "      <td>NaN</td>\n",
       "      <td>NaN</td>\n",
       "      <td>NaN</td>\n",
       "      <td>NaN</td>\n",
       "      <td>...</td>\n",
       "      <td>NaN</td>\n",
       "      <td>NaN</td>\n",
       "      <td>NaN</td>\n",
       "      <td>NaN</td>\n",
       "      <td>NaN</td>\n",
       "      <td>NaN</td>\n",
       "      <td>NaN</td>\n",
       "      <td>NaN</td>\n",
       "      <td>NaN</td>\n",
       "      <td>NaN</td>\n",
       "    </tr>\n",
       "    <tr>\n",
       "      <th>2</th>\n",
       "      <td>NaN</td>\n",
       "      <td>NaN</td>\n",
       "      <td>NaN</td>\n",
       "      <td>NaN</td>\n",
       "      <td>NaN</td>\n",
       "      <td>NaN</td>\n",
       "      <td>NaN</td>\n",
       "      <td>NaN</td>\n",
       "      <td>NaN</td>\n",
       "      <td>NaN</td>\n",
       "      <td>...</td>\n",
       "      <td>NaN</td>\n",
       "      <td>NaN</td>\n",
       "      <td>NaN</td>\n",
       "      <td>NaN</td>\n",
       "      <td>NaN</td>\n",
       "      <td>NaN</td>\n",
       "      <td>NaN</td>\n",
       "      <td>NaN</td>\n",
       "      <td>NaN</td>\n",
       "      <td>NaN</td>\n",
       "    </tr>\n",
       "    <tr>\n",
       "      <th>3</th>\n",
       "      <td>NaN</td>\n",
       "      <td>NaN</td>\n",
       "      <td>NaN</td>\n",
       "      <td>NaN</td>\n",
       "      <td>NaN</td>\n",
       "      <td>NaN</td>\n",
       "      <td>NaN</td>\n",
       "      <td>NaN</td>\n",
       "      <td>NaN</td>\n",
       "      <td>NaN</td>\n",
       "      <td>...</td>\n",
       "      <td>NaN</td>\n",
       "      <td>NaN</td>\n",
       "      <td>NaN</td>\n",
       "      <td>NaN</td>\n",
       "      <td>NaN</td>\n",
       "      <td>NaN</td>\n",
       "      <td>NaN</td>\n",
       "      <td>NaN</td>\n",
       "      <td>NaN</td>\n",
       "      <td>NaN</td>\n",
       "    </tr>\n",
       "    <tr>\n",
       "      <th>4</th>\n",
       "      <td>NaN</td>\n",
       "      <td>NaN</td>\n",
       "      <td>NaN</td>\n",
       "      <td>3.0</td>\n",
       "      <td>NaN</td>\n",
       "      <td>NaN</td>\n",
       "      <td>NaN</td>\n",
       "      <td>NaN</td>\n",
       "      <td>NaN</td>\n",
       "      <td>NaN</td>\n",
       "      <td>...</td>\n",
       "      <td>NaN</td>\n",
       "      <td>NaN</td>\n",
       "      <td>NaN</td>\n",
       "      <td>NaN</td>\n",
       "      <td>NaN</td>\n",
       "      <td>NaN</td>\n",
       "      <td>NaN</td>\n",
       "      <td>NaN</td>\n",
       "      <td>NaN</td>\n",
       "      <td>NaN</td>\n",
       "    </tr>\n",
       "    <tr>\n",
       "      <th>5</th>\n",
       "      <td>NaN</td>\n",
       "      <td>NaN</td>\n",
       "      <td>NaN</td>\n",
       "      <td>NaN</td>\n",
       "      <td>NaN</td>\n",
       "      <td>NaN</td>\n",
       "      <td>NaN</td>\n",
       "      <td>NaN</td>\n",
       "      <td>NaN</td>\n",
       "      <td>NaN</td>\n",
       "      <td>...</td>\n",
       "      <td>NaN</td>\n",
       "      <td>NaN</td>\n",
       "      <td>NaN</td>\n",
       "      <td>NaN</td>\n",
       "      <td>NaN</td>\n",
       "      <td>NaN</td>\n",
       "      <td>NaN</td>\n",
       "      <td>NaN</td>\n",
       "      <td>NaN</td>\n",
       "      <td>NaN</td>\n",
       "    </tr>\n",
       "  </tbody>\n",
       "</table>\n",
       "<p>5 rows × 587 columns</p>\n",
       "</div>"
      ],
      "text/plain": [
       "title   8 Seconds (1994)  Above the Rim (1994)  \\\n",
       "userId                                           \n",
       "1                    NaN                   NaN   \n",
       "2                    NaN                   NaN   \n",
       "3                    NaN                   NaN   \n",
       "4                    NaN                   NaN   \n",
       "5                    NaN                   NaN   \n",
       "\n",
       "title   Ace Ventura: Pet Detective (1994)  \\\n",
       "userId                                      \n",
       "1                                     NaN   \n",
       "2                                     NaN   \n",
       "3                                     NaN   \n",
       "4                                     NaN   \n",
       "5                                     NaN   \n",
       "\n",
       "title   Ace Ventura: When Nature Calls (1995)  Across the Sea of Time (1995)  \\\n",
       "userId                                                                         \n",
       "1                                         NaN                            NaN   \n",
       "2                                         NaN                            NaN   \n",
       "3                                         NaN                            NaN   \n",
       "4                                         3.0                            NaN   \n",
       "5                                         NaN                            NaN   \n",
       "\n",
       "title   Addams Family Values (1993)  Addiction, The (1995)  \\\n",
       "userId                                                       \n",
       "1                               NaN                    NaN   \n",
       "2                               NaN                    NaN   \n",
       "3                               NaN                    NaN   \n",
       "4                               NaN                    NaN   \n",
       "5                               NaN                    NaN   \n",
       "\n",
       "title   Adventures of Priscilla, Queen of the Desert, The (1994)  \\\n",
       "userId                                                             \n",
       "1                                                     NaN          \n",
       "2                                                     NaN          \n",
       "3                                                     NaN          \n",
       "4                                                     NaN          \n",
       "5                                                     NaN          \n",
       "\n",
       "title   Age of Innocence, The (1993)  Air Up There, The (1994)  ...  \\\n",
       "userId                                                          ...   \n",
       "1                                NaN                       NaN  ...   \n",
       "2                                NaN                       NaN  ...   \n",
       "3                                NaN                       NaN  ...   \n",
       "4                                NaN                       NaN  ...   \n",
       "5                                NaN                       NaN  ...   \n",
       "\n",
       "title   White Man's Burden (1995)  White Squall (1996)  Widows' Peak (1994)  \\\n",
       "userId                                                                        \n",
       "1                             NaN                  NaN                  NaN   \n",
       "2                             NaN                  NaN                  NaN   \n",
       "3                             NaN                  NaN                  NaN   \n",
       "4                             NaN                  NaN                  NaN   \n",
       "5                             NaN                  NaN                  NaN   \n",
       "\n",
       "title   Wild Bill (1995)  Wings of Courage (1995)  With Honors (1994)  \\\n",
       "userId                                                                  \n",
       "1                    NaN                      NaN                 NaN   \n",
       "2                    NaN                      NaN                 NaN   \n",
       "3                    NaN                      NaN                 NaN   \n",
       "4                    NaN                      NaN                 NaN   \n",
       "5                    NaN                      NaN                 NaN   \n",
       "\n",
       "title   Wolf (1994)  \\\n",
       "userId                \n",
       "1               NaN   \n",
       "2               NaN   \n",
       "3               NaN   \n",
       "4               NaN   \n",
       "5               NaN   \n",
       "\n",
       "title   Wonderful, Horrible Life of Leni Riefenstahl, The (Macht der Bilder: Leni Riefenstahl, Die) (1993)  \\\n",
       "userId                                                                                                       \n",
       "1                                                     NaN                                                    \n",
       "2                                                     NaN                                                    \n",
       "3                                                     NaN                                                    \n",
       "4                                                     NaN                                                    \n",
       "5                                                     NaN                                                    \n",
       "\n",
       "title   Wyatt Earp (1994)  Young Poisoner's Handbook, The (1995)  \n",
       "userId                                                            \n",
       "1                     NaN                                    NaN  \n",
       "2                     NaN                                    NaN  \n",
       "3                     NaN                                    NaN  \n",
       "4                     NaN                                    NaN  \n",
       "5                     NaN                                    NaN  \n",
       "\n",
       "[5 rows x 587 columns]"
      ]
     },
     "execution_count": 19,
     "metadata": {},
     "output_type": "execute_result"
    }
   ],
   "source": [
    "# TABLA GENERAL QUE MARCA ERROR AL HACER PIVOT_TABLE: df_final.pivot_table(index='userId', columns=['title'], values='rating')\n",
    "# MUESTRA:\n",
    "split = int(len(df_final) * 0.2)\n",
    "df_muestra = df_final[:split] \n",
    "df_user_ratings = df_muestra.pivot_table(index='userId', columns=['title'], values='rating')\n",
    "df_user_ratings.head()"
   ]
  },
  {
   "cell_type": "code",
   "execution_count": 20,
   "metadata": {},
   "outputs": [
    {
     "name": "stdout",
     "output_type": "stream",
     "text": [
      "RECOMENDACIONES EN FUNCIÓN DE LA CORRELACIÓN: \n",
      "                                         correlacion\n",
      "title                                               \n",
      "Batman (1989)                               1.000000\n",
      "Girl in the Cadillac (1995)                 0.768273\n",
      "New York Cop (Nyû Yôku no koppu) (1993)     0.490163\n",
      "Homage (1995)                               0.473919\n",
      "Desert Winds (1995)                         0.441261\n",
      "\n",
      "\n",
      "RECOMENDACIONES EN FUNCIÓN DE LA CORRELACIÓN: \n",
      "                                     correlacion\n",
      "title                                           \n",
      "Addams Family Values (1993)             1.000000\n",
      "Gospa (1995)                            0.946729\n",
      "Girl in the Cadillac (1995)             0.742614\n",
      "Headless Body in Topless Bar (1995)     0.577350\n",
      "Nemesis 2: Nebula (1995)                0.542627\n",
      "\n",
      "\n",
      "RECOMENDACIONES EN FUNCIÓN DE LA CORRELACIÓN: \n",
      "                                         correlacion\n",
      "title                                               \n",
      "Jurassic Park (1993)                        1.000000\n",
      "Headless Body in Topless Bar (1995)         0.572142\n",
      "New York Cop (Nyû Yôku no koppu) (1993)     0.542983\n",
      "Homage (1995)                               0.495501\n",
      "Guardian Angel (1994)                       0.474435\n",
      "\n",
      "\n"
     ]
    }
   ],
   "source": [
    "# Ejemplo de recomendaciones de las películas'Jurassic Park (1993)','Batman (1989)','Addams Family Values (1993)'\n",
    "# utilizando correlación y una muestra del dataset.\n",
    "pelis = ['Batman (1989)','Addams Family Values (1993)','Jurassic Park (1993)']\n",
    "\n",
    "for peli in pelis:\n",
    "    rated_movie = df_user_ratings[peli]\n",
    "    # Identificando corrrelaciones,\n",
    "    similar_movies = df_user_ratings.corrwith(rated_movie)\n",
    "    similar_movies.dropna(inplace=True)\n",
    "    similar_movies = pd.DataFrame(similar_movies, columns=['correlacion'])\n",
    "    print(\"RECOMENDACIONES EN FUNCIÓN DE LA CORRELACIÓN: \")\n",
    "    print(similar_movies.sort_values(by='correlacion', ascending=False).head())\n",
    "    print(\"\\n\")"
   ]
  },
  {
   "cell_type": "markdown",
   "metadata": {},
   "source": [
    "Al hacer uso de la muestra se observa que se pierden \"bastantes\" observaciones por lo que se procede a utilizar una técnica diferente de agregación. También se puede notar que aunque se tenga correlación alta puede que los usuarios no quieran ver esas películas dado que pudieron haber calificado otras películas."
   ]
  },
  {
   "cell_type": "markdown",
   "metadata": {},
   "source": [
    "### Agregaciones\n",
    "Aplicar transfromaciones a los datos tales como agrupar por el id de la película y obtener su rating promedio con el fin de filtrar el volumen de ratings para que se consideren similares."
   ]
  },
  {
   "cell_type": "code",
   "execution_count": 21,
   "metadata": {},
   "outputs": [
    {
     "name": "stderr",
     "output_type": "stream",
     "text": [
      "<ipython-input-21-50a156958649>:3: SettingWithCopyWarning: \n",
      "A value is trying to be set on a copy of a slice from a DataFrame.\n",
      "Try using .loc[row_indexer,col_indexer] = value instead\n",
      "\n",
      "See the caveats in the documentation: https://pandas.pydata.org/pandas-docs/stable/user_guide/indexing.html#returning-a-view-versus-a-copy\n",
      "  df_final['total_ratings'] = df_final.groupby('movieId')['rating'].transform('count')\n",
      "<ipython-input-21-50a156958649>:4: SettingWithCopyWarning: \n",
      "A value is trying to be set on a copy of a slice from a DataFrame.\n",
      "Try using .loc[row_indexer,col_indexer] = value instead\n",
      "\n",
      "See the caveats in the documentation: https://pandas.pydata.org/pandas-docs/stable/user_guide/indexing.html#returning-a-view-versus-a-copy\n",
      "  df_final['mean_rating'] = df_final.groupby('movieId')['rating'].transform('mean')\n"
     ]
    },
    {
     "data": {
      "text/html": [
       "<div>\n",
       "<style scoped>\n",
       "    .dataframe tbody tr th:only-of-type {\n",
       "        vertical-align: middle;\n",
       "    }\n",
       "\n",
       "    .dataframe tbody tr th {\n",
       "        vertical-align: top;\n",
       "    }\n",
       "\n",
       "    .dataframe thead th {\n",
       "        text-align: right;\n",
       "    }\n",
       "</style>\n",
       "<table border=\"1\" class=\"dataframe\">\n",
       "  <thead>\n",
       "    <tr style=\"text-align: right;\">\n",
       "      <th></th>\n",
       "      <th>movieId</th>\n",
       "      <th>title</th>\n",
       "      <th>genres</th>\n",
       "      <th>userId</th>\n",
       "      <th>rating</th>\n",
       "      <th>timestamp</th>\n",
       "      <th>total_ratings</th>\n",
       "      <th>mean_rating</th>\n",
       "    </tr>\n",
       "  </thead>\n",
       "  <tbody>\n",
       "    <tr>\n",
       "      <th>14162882</th>\n",
       "      <td>1</td>\n",
       "      <td>Toy Story (1995)</td>\n",
       "      <td>Adventure Animation Children Comedy Fantasy</td>\n",
       "      <td>97809</td>\n",
       "      <td>3.0</td>\n",
       "      <td>2008-06-11 04:47:11</td>\n",
       "      <td>49695</td>\n",
       "      <td>3.92124</td>\n",
       "    </tr>\n",
       "    <tr>\n",
       "      <th>15347420</th>\n",
       "      <td>1</td>\n",
       "      <td>Toy Story (1995)</td>\n",
       "      <td>Adventure Animation Children Comedy Fantasy</td>\n",
       "      <td>106140</td>\n",
       "      <td>5.0</td>\n",
       "      <td>2013-01-29 03:33:49</td>\n",
       "      <td>49695</td>\n",
       "      <td>3.92124</td>\n",
       "    </tr>\n",
       "    <tr>\n",
       "      <th>15347355</th>\n",
       "      <td>1</td>\n",
       "      <td>Toy Story (1995)</td>\n",
       "      <td>Adventure Animation Children Comedy Fantasy</td>\n",
       "      <td>106138</td>\n",
       "      <td>3.0</td>\n",
       "      <td>2002-07-31 15:48:53</td>\n",
       "      <td>49695</td>\n",
       "      <td>3.92124</td>\n",
       "    </tr>\n",
       "    <tr>\n",
       "      <th>10170195</th>\n",
       "      <td>1</td>\n",
       "      <td>Toy Story (1995)</td>\n",
       "      <td>Adventure Animation Children Comedy Fantasy</td>\n",
       "      <td>70354</td>\n",
       "      <td>4.5</td>\n",
       "      <td>2011-02-13 18:55:40</td>\n",
       "      <td>49695</td>\n",
       "      <td>3.92124</td>\n",
       "    </tr>\n",
       "    <tr>\n",
       "      <th>10170255</th>\n",
       "      <td>1</td>\n",
       "      <td>Toy Story (1995)</td>\n",
       "      <td>Adventure Animation Children Comedy Fantasy</td>\n",
       "      <td>70355</td>\n",
       "      <td>3.5</td>\n",
       "      <td>2008-01-26 16:56:54</td>\n",
       "      <td>49695</td>\n",
       "      <td>3.92124</td>\n",
       "    </tr>\n",
       "  </tbody>\n",
       "</table>\n",
       "</div>"
      ],
      "text/plain": [
       "          movieId             title  \\\n",
       "14162882        1  Toy Story (1995)   \n",
       "15347420        1  Toy Story (1995)   \n",
       "15347355        1  Toy Story (1995)   \n",
       "10170195        1  Toy Story (1995)   \n",
       "10170255        1  Toy Story (1995)   \n",
       "\n",
       "                                               genres  userId  rating  \\\n",
       "14162882  Adventure Animation Children Comedy Fantasy   97809     3.0   \n",
       "15347420  Adventure Animation Children Comedy Fantasy  106140     5.0   \n",
       "15347355  Adventure Animation Children Comedy Fantasy  106138     3.0   \n",
       "10170195  Adventure Animation Children Comedy Fantasy   70354     4.5   \n",
       "10170255  Adventure Animation Children Comedy Fantasy   70355     3.5   \n",
       "\n",
       "                    timestamp  total_ratings  mean_rating  \n",
       "14162882  2008-06-11 04:47:11          49695      3.92124  \n",
       "15347420  2013-01-29 03:33:49          49695      3.92124  \n",
       "15347355  2002-07-31 15:48:53          49695      3.92124  \n",
       "10170195  2011-02-13 18:55:40          49695      3.92124  \n",
       "10170255  2008-01-26 16:56:54          49695      3.92124  "
      ]
     },
     "execution_count": 21,
     "metadata": {},
     "output_type": "execute_result"
    }
   ],
   "source": [
    "# Utilizando la agrupación en pandas se usan funciones agregadas count y mean y se ponen en columnas en el dataset.\n",
    "# Así se calcula el número total de ratings y su media de cada película.\n",
    "df_final['total_ratings'] = df_final.groupby('movieId')['rating'].transform('count')\n",
    "df_final['mean_rating'] = df_final.groupby('movieId')['rating'].transform('mean')\n",
    "df_final.head()"
   ]
  },
  {
   "cell_type": "code",
   "execution_count": 22,
   "metadata": {},
   "outputs": [
    {
     "data": {
      "text/html": [
       "<div>\n",
       "<style scoped>\n",
       "    .dataframe tbody tr th:only-of-type {\n",
       "        vertical-align: middle;\n",
       "    }\n",
       "\n",
       "    .dataframe tbody tr th {\n",
       "        vertical-align: top;\n",
       "    }\n",
       "\n",
       "    .dataframe thead th {\n",
       "        text-align: right;\n",
       "    }\n",
       "</style>\n",
       "<table border=\"1\" class=\"dataframe\">\n",
       "  <thead>\n",
       "    <tr style=\"text-align: right;\">\n",
       "      <th></th>\n",
       "      <th>movieId</th>\n",
       "      <th>title</th>\n",
       "      <th>total_ratings</th>\n",
       "      <th>mean_rating</th>\n",
       "    </tr>\n",
       "  </thead>\n",
       "  <tbody>\n",
       "    <tr>\n",
       "      <th>14162882</th>\n",
       "      <td>1</td>\n",
       "      <td>Toy Story (1995)</td>\n",
       "      <td>49695</td>\n",
       "      <td>3.921240</td>\n",
       "    </tr>\n",
       "    <tr>\n",
       "      <th>14103187</th>\n",
       "      <td>2</td>\n",
       "      <td>Jumanji (1995)</td>\n",
       "      <td>22243</td>\n",
       "      <td>3.211977</td>\n",
       "    </tr>\n",
       "    <tr>\n",
       "      <th>17241746</th>\n",
       "      <td>3</td>\n",
       "      <td>Grumpier Old Men (1995)</td>\n",
       "      <td>12735</td>\n",
       "      <td>3.151040</td>\n",
       "    </tr>\n",
       "    <tr>\n",
       "      <th>15126002</th>\n",
       "      <td>4</td>\n",
       "      <td>Waiting to Exhale (1995)</td>\n",
       "      <td>2756</td>\n",
       "      <td>2.861393</td>\n",
       "    </tr>\n",
       "    <tr>\n",
       "      <th>3218667</th>\n",
       "      <td>5</td>\n",
       "      <td>Father of the Bride Part II (1995)</td>\n",
       "      <td>12161</td>\n",
       "      <td>3.064592</td>\n",
       "    </tr>\n",
       "  </tbody>\n",
       "</table>\n",
       "</div>"
      ],
      "text/plain": [
       "          movieId                               title  total_ratings  \\\n",
       "14162882        1                    Toy Story (1995)          49695   \n",
       "14103187        2                      Jumanji (1995)          22243   \n",
       "17241746        3             Grumpier Old Men (1995)          12735   \n",
       "15126002        4            Waiting to Exhale (1995)           2756   \n",
       "3218667         5  Father of the Bride Part II (1995)          12161   \n",
       "\n",
       "          mean_rating  \n",
       "14162882     3.921240  \n",
       "14103187     3.211977  \n",
       "17241746     3.151040  \n",
       "15126002     2.861393  \n",
       "3218667      3.064592  "
      ]
     },
     "execution_count": 22,
     "metadata": {},
     "output_type": "execute_result"
    }
   ],
   "source": [
    "# Una vez agregados se remuven los duplicados y se seleccionana solamente los features:\n",
    "# 'movieId', 'title', 'total_ratings', 'mean_rating'\n",
    "df_final = df_final[['movieId', 'title', 'total_ratings', 'mean_rating']]\n",
    "df_final.drop_duplicates('movieId', keep='first', inplace=True)\n",
    "df_final.head()"
   ]
  },
  {
   "cell_type": "code",
   "execution_count": 23,
   "metadata": {},
   "outputs": [
    {
     "data": {
      "text/html": [
       "<div>\n",
       "<style scoped>\n",
       "    .dataframe tbody tr th:only-of-type {\n",
       "        vertical-align: middle;\n",
       "    }\n",
       "\n",
       "    .dataframe tbody tr th {\n",
       "        vertical-align: top;\n",
       "    }\n",
       "\n",
       "    .dataframe thead th {\n",
       "        text-align: right;\n",
       "    }\n",
       "</style>\n",
       "<table border=\"1\" class=\"dataframe\">\n",
       "  <thead>\n",
       "    <tr style=\"text-align: right;\">\n",
       "      <th></th>\n",
       "      <th>movieId</th>\n",
       "      <th>title</th>\n",
       "      <th>total_ratings</th>\n",
       "      <th>mean_rating</th>\n",
       "    </tr>\n",
       "  </thead>\n",
       "  <tbody>\n",
       "    <tr>\n",
       "      <th>18953612</th>\n",
       "      <td>296</td>\n",
       "      <td>Pulp Fiction (1994)</td>\n",
       "      <td>67310</td>\n",
       "      <td>4.174231</td>\n",
       "    </tr>\n",
       "    <tr>\n",
       "      <th>11598764</th>\n",
       "      <td>356</td>\n",
       "      <td>Forrest Gump (1994)</td>\n",
       "      <td>66172</td>\n",
       "      <td>4.029000</td>\n",
       "    </tr>\n",
       "    <tr>\n",
       "      <th>17995495</th>\n",
       "      <td>318</td>\n",
       "      <td>Shawshank Redemption, The (1994)</td>\n",
       "      <td>63366</td>\n",
       "      <td>4.446990</td>\n",
       "    </tr>\n",
       "    <tr>\n",
       "      <th>13147363</th>\n",
       "      <td>593</td>\n",
       "      <td>Silence of the Lambs, The (1991)</td>\n",
       "      <td>63299</td>\n",
       "      <td>4.177057</td>\n",
       "    </tr>\n",
       "    <tr>\n",
       "      <th>4658412</th>\n",
       "      <td>480</td>\n",
       "      <td>Jurassic Park (1993)</td>\n",
       "      <td>59715</td>\n",
       "      <td>3.664741</td>\n",
       "    </tr>\n",
       "  </tbody>\n",
       "</table>\n",
       "</div>"
      ],
      "text/plain": [
       "          movieId                             title  total_ratings  \\\n",
       "18953612      296               Pulp Fiction (1994)          67310   \n",
       "11598764      356               Forrest Gump (1994)          66172   \n",
       "17995495      318  Shawshank Redemption, The (1994)          63366   \n",
       "13147363      593  Silence of the Lambs, The (1991)          63299   \n",
       "4658412       480              Jurassic Park (1993)          59715   \n",
       "\n",
       "          mean_rating  \n",
       "18953612     4.174231  \n",
       "11598764     4.029000  \n",
       "17995495     4.446990  \n",
       "13147363     4.177057  \n",
       "4658412      3.664741  "
      ]
     },
     "execution_count": 23,
     "metadata": {},
     "output_type": "execute_result"
    }
   ],
   "source": [
    "# Dependiendo del Científico de Datos se puede tomar un umbral de las películas que tengn más de \"m\" calificaciones, por ejemplo\n",
    "# m=100 calificaciones ya que haría los datos más consistentes\n",
    "m = 100\n",
    "populares_movies = df_final['total_ratings'] >= m\n",
    "populares_movies = df_final[populares_movies].sort_values(['total_ratings', 'mean_rating'], ascending=False)\n",
    "populares_movies.head()"
   ]
  },
  {
   "cell_type": "code",
   "execution_count": 24,
   "metadata": {},
   "outputs": [
    {
     "data": {
      "text/html": [
       "<div>\n",
       "<style scoped>\n",
       "    .dataframe tbody tr th:only-of-type {\n",
       "        vertical-align: middle;\n",
       "    }\n",
       "\n",
       "    .dataframe tbody tr th {\n",
       "        vertical-align: top;\n",
       "    }\n",
       "\n",
       "    .dataframe thead th {\n",
       "        text-align: right;\n",
       "    }\n",
       "</style>\n",
       "<table border=\"1\" class=\"dataframe\">\n",
       "  <thead>\n",
       "    <tr style=\"text-align: right;\">\n",
       "      <th></th>\n",
       "      <th>movieId</th>\n",
       "      <th>title</th>\n",
       "      <th>total_ratings</th>\n",
       "      <th>mean_rating</th>\n",
       "    </tr>\n",
       "  </thead>\n",
       "  <tbody>\n",
       "    <tr>\n",
       "      <th>17108947</th>\n",
       "      <td>56336</td>\n",
       "      <td>Wrong Turn 2: Dead End (2007)</td>\n",
       "      <td>100</td>\n",
       "      <td>2.325</td>\n",
       "    </tr>\n",
       "    <tr>\n",
       "      <th>14007184</th>\n",
       "      <td>51127</td>\n",
       "      <td>loudQUIETloud: A Film About the Pixies (2006)</td>\n",
       "      <td>100</td>\n",
       "      <td>3.770</td>\n",
       "    </tr>\n",
       "    <tr>\n",
       "      <th>4276007</th>\n",
       "      <td>30867</td>\n",
       "      <td>Kamikaze Girls (Shimotsuma monogatari) (2004)</td>\n",
       "      <td>100</td>\n",
       "      <td>3.765</td>\n",
       "    </tr>\n",
       "    <tr>\n",
       "      <th>4586676</th>\n",
       "      <td>8201</td>\n",
       "      <td>At Play in the Fields of the Lord (1991)</td>\n",
       "      <td>100</td>\n",
       "      <td>3.415</td>\n",
       "    </tr>\n",
       "    <tr>\n",
       "      <th>14112891</th>\n",
       "      <td>80469</td>\n",
       "      <td>Superman/Batman: Apocalypse (2010)</td>\n",
       "      <td>100</td>\n",
       "      <td>3.350</td>\n",
       "    </tr>\n",
       "  </tbody>\n",
       "</table>\n",
       "</div>"
      ],
      "text/plain": [
       "          movieId                                          title  \\\n",
       "17108947    56336                  Wrong Turn 2: Dead End (2007)   \n",
       "14007184    51127  loudQUIETloud: A Film About the Pixies (2006)   \n",
       "4276007     30867  Kamikaze Girls (Shimotsuma monogatari) (2004)   \n",
       "4586676      8201       At Play in the Fields of the Lord (1991)   \n",
       "14112891    80469             Superman/Batman: Apocalypse (2010)   \n",
       "\n",
       "          total_ratings  mean_rating  \n",
       "17108947            100        2.325  \n",
       "14007184            100        3.770  \n",
       "4276007             100        3.765  \n",
       "4586676             100        3.415  \n",
       "14112891            100        3.350  "
      ]
     },
     "execution_count": 24,
     "metadata": {},
     "output_type": "execute_result"
    }
   ],
   "source": [
    "# Se ordena de manera ascendente para observar que al menos hay 100 calificaciones\n",
    "populares_movies.sort_values(by='total_ratings', ascending=True).head()"
   ]
  },
  {
   "cell_type": "markdown",
   "metadata": {},
   "source": [
    "Se podría hacer un merge del dataset **populares_movies** que contiene las calificaciones medias de las películas \n",
    "donde más de 100 personas votaron el de **similar_movies**, así se obtiene un mejor dataset. \n",
    "Si luego se eliminan los valores nulos de todas las películas que no tienen calificaciones y se ponen en orde descendente por correlación, se obtiene una lista de películas que también fueron calificadas por personas que vieron la película objetivo.\n",
    "Eso nos daría recomendación donde **\"las personas que vieron esto también vieron\"**."
   ]
  },
  {
   "cell_type": "code",
   "execution_count": 25,
   "metadata": {},
   "outputs": [
    {
     "data": {
      "text/html": [
       "<div>\n",
       "<style scoped>\n",
       "    .dataframe tbody tr th:only-of-type {\n",
       "        vertical-align: middle;\n",
       "    }\n",
       "\n",
       "    .dataframe tbody tr th {\n",
       "        vertical-align: top;\n",
       "    }\n",
       "\n",
       "    .dataframe thead th {\n",
       "        text-align: right;\n",
       "    }\n",
       "</style>\n",
       "<table border=\"1\" class=\"dataframe\">\n",
       "  <thead>\n",
       "    <tr style=\"text-align: right;\">\n",
       "      <th></th>\n",
       "      <th>title</th>\n",
       "      <th>correlacion</th>\n",
       "      <th>movieId</th>\n",
       "      <th>total_ratings</th>\n",
       "      <th>mean_rating</th>\n",
       "    </tr>\n",
       "  </thead>\n",
       "  <tbody>\n",
       "    <tr>\n",
       "      <th>278</th>\n",
       "      <td>Jurassic Park (1993)</td>\n",
       "      <td>1.000000</td>\n",
       "      <td>480.0</td>\n",
       "      <td>59715.0</td>\n",
       "      <td>3.664741</td>\n",
       "    </tr>\n",
       "    <tr>\n",
       "      <th>528</th>\n",
       "      <td>Three Wishes (1995)</td>\n",
       "      <td>0.387373</td>\n",
       "      <td>201.0</td>\n",
       "      <td>365.0</td>\n",
       "      <td>3.027397</td>\n",
       "    </tr>\n",
       "    <tr>\n",
       "      <th>274</th>\n",
       "      <td>Jumanji (1995)</td>\n",
       "      <td>0.380928</td>\n",
       "      <td>2.0</td>\n",
       "      <td>22243.0</td>\n",
       "      <td>3.211977</td>\n",
       "    </tr>\n",
       "    <tr>\n",
       "      <th>496</th>\n",
       "      <td>Speed (1994)</td>\n",
       "      <td>0.379169</td>\n",
       "      <td>377.0</td>\n",
       "      <td>41562.0</td>\n",
       "      <td>3.493203</td>\n",
       "    </tr>\n",
       "    <tr>\n",
       "      <th>236</th>\n",
       "      <td>Home Alone (1990)</td>\n",
       "      <td>0.376493</td>\n",
       "      <td>586.0</td>\n",
       "      <td>28348.0</td>\n",
       "      <td>3.086655</td>\n",
       "    </tr>\n",
       "    <tr>\n",
       "      <th>521</th>\n",
       "      <td>Terminator 2: Judgment Day (1991)</td>\n",
       "      <td>0.371392</td>\n",
       "      <td>589.0</td>\n",
       "      <td>52244.0</td>\n",
       "      <td>3.931954</td>\n",
       "    </tr>\n",
       "    <tr>\n",
       "      <th>102</th>\n",
       "      <td>Cliffhanger (1993)</td>\n",
       "      <td>0.359569</td>\n",
       "      <td>434.0</td>\n",
       "      <td>24940.0</td>\n",
       "      <td>3.057338</td>\n",
       "    </tr>\n",
       "    <tr>\n",
       "      <th>352</th>\n",
       "      <td>Mrs. Doubtfire (1993)</td>\n",
       "      <td>0.357181</td>\n",
       "      <td>500.0</td>\n",
       "      <td>34392.0</td>\n",
       "      <td>3.386267</td>\n",
       "    </tr>\n",
       "    <tr>\n",
       "      <th>200</th>\n",
       "      <td>Fugitive, The (1993)</td>\n",
       "      <td>0.347477</td>\n",
       "      <td>457.0</td>\n",
       "      <td>49581.0</td>\n",
       "      <td>3.985690</td>\n",
       "    </tr>\n",
       "    <tr>\n",
       "      <th>424</th>\n",
       "      <td>Race the Sun (1996)</td>\n",
       "      <td>0.344080</td>\n",
       "      <td>120.0</td>\n",
       "      <td>147.0</td>\n",
       "      <td>2.880952</td>\n",
       "    </tr>\n",
       "  </tbody>\n",
       "</table>\n",
       "</div>"
      ],
      "text/plain": [
       "                                 title  correlacion  movieId  total_ratings  \\\n",
       "278               Jurassic Park (1993)     1.000000    480.0        59715.0   \n",
       "528                Three Wishes (1995)     0.387373    201.0          365.0   \n",
       "274                     Jumanji (1995)     0.380928      2.0        22243.0   \n",
       "496                       Speed (1994)     0.379169    377.0        41562.0   \n",
       "236                  Home Alone (1990)     0.376493    586.0        28348.0   \n",
       "521  Terminator 2: Judgment Day (1991)     0.371392    589.0        52244.0   \n",
       "102                 Cliffhanger (1993)     0.359569    434.0        24940.0   \n",
       "352              Mrs. Doubtfire (1993)     0.357181    500.0        34392.0   \n",
       "200               Fugitive, The (1993)     0.347477    457.0        49581.0   \n",
       "424                Race the Sun (1996)     0.344080    120.0          147.0   \n",
       "\n",
       "     mean_rating  \n",
       "278     3.664741  \n",
       "528     3.027397  \n",
       "274     3.211977  \n",
       "496     3.493203  \n",
       "236     3.086655  \n",
       "521     3.931954  \n",
       "102     3.057338  \n",
       "352     3.386267  \n",
       "200     3.985690  \n",
       "424     2.880952  "
      ]
     },
     "execution_count": 25,
     "metadata": {},
     "output_type": "execute_result"
    }
   ],
   "source": [
    "# Merge de similar_movies con df_popular_movies\n",
    "similar_movies = similar_movies.reset_index()\n",
    "popular_similar_movies = similar_movies.merge(populares_movies, on='title', how='left')\n",
    "popular_similar_movies = popular_similar_movies.dropna()\n",
    "popular_similar_movies.sort_values(by='correlacion', ascending=False).head(10)"
   ]
  },
  {
   "cell_type": "markdown",
   "metadata": {},
   "source": [
    "### Distribución de Variable Objetivo\n",
    "Utilizando la hipótesise que cualquier puntaje superior a 4 es una buena indicación de una película.\n",
    "\n",
    "Se crea una nueva columna con la condición:\n",
    "* 1 in case the rating is >= 4 (flag for \"high\" rating)\n",
    "* 0 in case the rating is < 4"
   ]
  },
  {
   "cell_type": "code",
   "execution_count": 26,
   "metadata": {},
   "outputs": [
    {
     "data": {
      "text/plain": [
       "0    525\n",
       "1     20\n",
       "Name: rating, dtype: int64"
      ]
     },
     "execution_count": 26,
     "metadata": {},
     "output_type": "execute_result"
    }
   ],
   "source": [
    "popular_similar_movies['rating'] = popular_similar_movies['mean_rating'].apply(lambda x: 1 if x>=4 else 0)\n",
    "popular_similar_movies['rating'].value_counts() "
   ]
  },
  {
   "cell_type": "code",
   "execution_count": 27,
   "metadata": {},
   "outputs": [
    {
     "name": "stdout",
     "output_type": "stream",
     "text": [
      "low_rating:  96.33 % del dataset\n",
      "high_rating:  3.67 % del dataset\n"
     ]
    }
   ],
   "source": [
    "# Variable Objetivo en porcentaje del dataset df1\n",
    "print('low_rating: ', round(popular_similar_movies['rating'].value_counts()[0]/len(popular_similar_movies) * 100,2), '% del dataset')\n",
    "print('high_rating: ', round(popular_similar_movies['rating'].value_counts()[1]/len(popular_similar_movies) * 100,2), '% del dataset')\n",
    "# Se tienen clases desbalanceadas"
   ]
  },
  {
   "cell_type": "code",
   "execution_count": 28,
   "metadata": {},
   "outputs": [
    {
     "data": {
      "image/png": "[encoded data removed]",
      "text/plain": [
       "<Figure size 648x504 with 1 Axes>"
      ]
     },
     "metadata": {},
     "output_type": "display_data"
    }
   ],
   "source": [
    "# Distribución de la variable objetivo\n",
    "plt.figure(figsize=(9,7))\n",
    "sns.countplot(x='rating', data=popular_similar_movies)\n",
    "plt.title(\"Distribución de las clases\", fontsize=20)\n",
    "plt.ylabel(\"Total\")\n",
    "plt.show()"
   ]
  },
  {
   "cell_type": "markdown",
   "metadata": {},
   "source": [
    "Se puede modificar esto para dar resultados de a las **\"personas a las que les gustó esta película también les gustó\"** filtrando contra la calificación media. Utilizando la hipótesis de que cualquier puntaje superior a 4 es una buena indicación de una película que a alguien realmente le gustó, al agregar este filtro adicional se obtiene un conjunto modificado de resultados con **mejores** películas, las demás películas se clasificaría como 0."
   ]
  },
  {
   "cell_type": "code",
   "execution_count": 29,
   "metadata": {},
   "outputs": [
    {
     "data": {
      "text/html": [
       "<div>\n",
       "<style scoped>\n",
       "    .dataframe tbody tr th:only-of-type {\n",
       "        vertical-align: middle;\n",
       "    }\n",
       "\n",
       "    .dataframe tbody tr th {\n",
       "        vertical-align: top;\n",
       "    }\n",
       "\n",
       "    .dataframe thead th {\n",
       "        text-align: right;\n",
       "    }\n",
       "</style>\n",
       "<table border=\"1\" class=\"dataframe\">\n",
       "  <thead>\n",
       "    <tr style=\"text-align: right;\">\n",
       "      <th></th>\n",
       "      <th>title</th>\n",
       "      <th>correlacion</th>\n",
       "      <th>movieId</th>\n",
       "      <th>total_ratings</th>\n",
       "      <th>mean_rating</th>\n",
       "      <th>rating</th>\n",
       "    </tr>\n",
       "  </thead>\n",
       "  <tbody>\n",
       "    <tr>\n",
       "      <th>499</th>\n",
       "      <td>Star Wars: Episode IV - A New Hope (1977)</td>\n",
       "      <td>0.317182</td>\n",
       "      <td>260.0</td>\n",
       "      <td>54502.0</td>\n",
       "      <td>4.190672</td>\n",
       "      <td>1</td>\n",
       "    </tr>\n",
       "    <tr>\n",
       "      <th>71</th>\n",
       "      <td>Braveheart (1995)</td>\n",
       "      <td>0.313557</td>\n",
       "      <td>110.0</td>\n",
       "      <td>53769.0</td>\n",
       "      <td>4.042534</td>\n",
       "      <td>1</td>\n",
       "    </tr>\n",
       "    <tr>\n",
       "      <th>187</th>\n",
       "      <td>Forrest Gump (1994)</td>\n",
       "      <td>0.308853</td>\n",
       "      <td>356.0</td>\n",
       "      <td>66172.0</td>\n",
       "      <td>4.029000</td>\n",
       "      <td>1</td>\n",
       "    </tr>\n",
       "    <tr>\n",
       "      <th>459</th>\n",
       "      <td>Schindler's List (1993)</td>\n",
       "      <td>0.228759</td>\n",
       "      <td>527.0</td>\n",
       "      <td>50054.0</td>\n",
       "      <td>4.310175</td>\n",
       "      <td>1</td>\n",
       "    </tr>\n",
       "    <tr>\n",
       "      <th>475</th>\n",
       "      <td>Shawshank Redemption, The (1994)</td>\n",
       "      <td>0.203035</td>\n",
       "      <td>318.0</td>\n",
       "      <td>63366.0</td>\n",
       "      <td>4.446990</td>\n",
       "      <td>1</td>\n",
       "    </tr>\n",
       "    <tr>\n",
       "      <th>469</th>\n",
       "      <td>Seven (a.k.a. Se7en) (1995)</td>\n",
       "      <td>0.140327</td>\n",
       "      <td>47.0</td>\n",
       "      <td>43249.0</td>\n",
       "      <td>4.053493</td>\n",
       "      <td>1</td>\n",
       "    </tr>\n",
       "    <tr>\n",
       "      <th>556</th>\n",
       "      <td>Usual Suspects, The (1995)</td>\n",
       "      <td>0.118176</td>\n",
       "      <td>50.0</td>\n",
       "      <td>47006.0</td>\n",
       "      <td>4.334372</td>\n",
       "      <td>1</td>\n",
       "    </tr>\n",
       "    <tr>\n",
       "      <th>317</th>\n",
       "      <td>Léon: The Professional (a.k.a. The Professiona...</td>\n",
       "      <td>0.093822</td>\n",
       "      <td>293.0</td>\n",
       "      <td>25804.0</td>\n",
       "      <td>4.050574</td>\n",
       "      <td>1</td>\n",
       "    </tr>\n",
       "    <tr>\n",
       "      <th>57</th>\n",
       "      <td>Blade Runner (1982)</td>\n",
       "      <td>0.069778</td>\n",
       "      <td>541.0</td>\n",
       "      <td>30526.0</td>\n",
       "      <td>4.133706</td>\n",
       "      <td>1</td>\n",
       "    </tr>\n",
       "    <tr>\n",
       "      <th>152</th>\n",
       "      <td>Eat Drink Man Woman (Yin shi nan nu) (1994)</td>\n",
       "      <td>0.037665</td>\n",
       "      <td>232.0</td>\n",
       "      <td>6150.0</td>\n",
       "      <td>4.035610</td>\n",
       "      <td>1</td>\n",
       "    </tr>\n",
       "  </tbody>\n",
       "</table>\n",
       "</div>"
      ],
      "text/plain": [
       "                                                 title  correlacion  movieId  \\\n",
       "499          Star Wars: Episode IV - A New Hope (1977)     0.317182    260.0   \n",
       "71                                   Braveheart (1995)     0.313557    110.0   \n",
       "187                                Forrest Gump (1994)     0.308853    356.0   \n",
       "459                            Schindler's List (1993)     0.228759    527.0   \n",
       "475                   Shawshank Redemption, The (1994)     0.203035    318.0   \n",
       "469                        Seven (a.k.a. Se7en) (1995)     0.140327     47.0   \n",
       "556                         Usual Suspects, The (1995)     0.118176     50.0   \n",
       "317  Léon: The Professional (a.k.a. The Professiona...     0.093822    293.0   \n",
       "57                                 Blade Runner (1982)     0.069778    541.0   \n",
       "152        Eat Drink Man Woman (Yin shi nan nu) (1994)     0.037665    232.0   \n",
       "\n",
       "     total_ratings  mean_rating  rating  \n",
       "499        54502.0     4.190672       1  \n",
       "71         53769.0     4.042534       1  \n",
       "187        66172.0     4.029000       1  \n",
       "459        50054.0     4.310175       1  \n",
       "475        63366.0     4.446990       1  \n",
       "469        43249.0     4.053493       1  \n",
       "556        47006.0     4.334372       1  \n",
       "317        25804.0     4.050574       1  \n",
       "57         30526.0     4.133706       1  \n",
       "152         6150.0     4.035610       1  "
      ]
     },
     "execution_count": 29,
     "metadata": {},
     "output_type": "execute_result"
    }
   ],
   "source": [
    "popular_similar_liked_movies = popular_similar_movies[popular_similar_movies['mean_rating'] >= 4]\n",
    "popular_similar_liked_movies.sort_values(by='correlacion', ascending=False).head(10)"
   ]
  },
  {
   "cell_type": "markdown",
   "metadata": {},
   "source": [
    "# Conclusiones"
   ]
  },
  {
   "cell_type": "markdown",
   "metadata": {},
   "source": [
    "En el presente challenge se realizó un análisis de datasets relacionados con la evaluación de películas por parte de usuarios.\n",
    "Dado que los datos vienen dispersos en varios archivos con extensión .csv lo que se hizo fue utilizar la librería de pandas para leerlos y hacer merge por Id's y así poder trabajar.\n",
    "\n",
    "Se tiene un problema de aprendizaje supervisado de clasificaión donde la variable objetivo es binaria, es decir, si una película tiene un buen (4) o mal (0) ranking, así el objetivo es utilizar un algoritmo para clasificar películas.\n",
    "\n",
    "Lo primero fue saber el tipo de dato, la cardinalidad de los conjuntos de datos donde se revisa si hay datos faltantes, seguido de hacer análisis exploratorio para tener una idea de las distribuciones de las distintas variables involucradas.\n",
    "\n",
    "El primer reto fue manipular el dataset dado que su cardinalidad es \"grande\" para una computadora promedio, ya que se tiene un costo computacional alto, la idea principamente fue hacer una tabla de contignecia para sacar correlaciones pero al hacerlo debido al tamño del dataset el IDE marca error, entonces se tomó una muestra para generar la tabla de contigencia en donde el índice son los usuarios y las columnas son las películas y los registros son los rankings dados.\n",
    "Al hacer surge una cuestión de que aunque se tenga correlación alta puede que los usuarios no quieran ver esas películas dado que pudieron haber calificado otras películas. Dicho problema de mejorar haciendo una agregación del dataset y filtrando por un umbral de las películas más rankeadas y ahora sí utilizar la correlación y así obtener un mejor algoritmo.\n",
    "\n",
    "Para un trabajo posterior se podrían generar u obtener nuevos features para aplicar algún algoritmo de clasificaición desde una regresión logística hasta una red neuronal y utilizar algoritmos como por ejemplo SelectKBest para obtener una escala de la importancia de las variables y agregar las más relevantes al modelo."
   ]
  },
  {
   "cell_type": "code",
   "execution_count": 34,
   "metadata": {},
   "outputs": [
    {
     "data": {
      "text/html": [
       "<img src=\"https://foreverpieces.com/wp-content/uploads/2020/05/Best-movies.jpg\"/>"
      ],
      "text/plain": [
       "<IPython.core.display.Image object>"
      ]
     },
     "execution_count": 34,
     "metadata": {},
     "output_type": "execute_result"
    }
   ],
   "source": [
    "from IPython.display import Image\n",
    "Image(url= \"https://foreverpieces.com/wp-content/uploads/2020/05/Best-movies.jpg\")"
   ]
  }
 ],
 "metadata": {
  "kernelspec": {
   "display_name": "Python 3",
   "language": "python",
   "name": "python3"
  },
  "language_info": {
   "codemirror_mode": {
    "name": "ipython",
    "version": 3
   },
   "file_extension": ".py",
   "mimetype": "text/x-python",
   "name": "python",
   "nbconvert_exporter": "python",
   "pygments_lexer": "ipython3",
   "version": "3.8.8"
  }
 },
 "nbformat": 4,
 "nbformat_minor": 2
}
